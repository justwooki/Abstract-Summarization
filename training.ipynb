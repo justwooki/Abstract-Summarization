{
 "cells": [
  {
   "cell_type": "code",
   "execution_count": 1,
   "id": "25c1b2fd-ac1c-4a9b-94af-04eb7de58793",
   "metadata": {},
   "outputs": [],
   "source": [
    "import numpy as np\n",
    "from rnn import RNN"
   ]
  },
  {
   "cell_type": "markdown",
   "id": "84dd69c3-b726-4fa9-aed1-ee52c6a21667",
   "metadata": {},
   "source": [
    "# Load vectorized data"
   ]
  },
  {
   "cell_type": "code",
   "execution_count": 2,
   "id": "96b77265-0c1f-4a9f-b513-62a6a262fab4",
   "metadata": {},
   "outputs": [],
   "source": [
    "data = np.load('vect_data.npz')\n",
    "X_train, X_val, X_test = data['X_train'], data['X_val'], data['X_test']\n",
    "y_train, y_val, y_test = data['y_train'], data['y_val'], data['y_test']"
   ]
  },
  {
   "cell_type": "markdown",
   "id": "aaf630e9-783e-4196-bd64-ef279fc0ced1",
   "metadata": {},
   "source": [
    "# Training"
   ]
  },
  {
   "cell_type": "code",
   "execution_count": 10,
   "id": "6f449302-f862-4daf-bd67-24dcbaf2fe36",
   "metadata": {},
   "outputs": [
    {
     "name": "stdout",
     "output_type": "stream",
     "text": [
      "(740,)\n",
      "(740,)\n",
      "(740,)\n",
      "(740,)\n",
      "(740,)\n"
     ]
    }
   ],
   "source": [
    "# len(X_train[0])\n",
    "i = 0\n",
    "for idx, inp in enumerate(X_train):\n",
    "    if i == 5: break\n",
    "    print(inp.shape)\n",
    "    # print(len(inp[0]))\n",
    "    i += 1\n",
    "    # np.random.uniform(low=0, high=1, size=(32, len(X_train_vect[0])))"
   ]
  },
  {
   "cell_type": "code",
   "execution_count": 11,
   "id": "d5e9c043-a207-4fed-8306-c65461dbe708",
   "metadata": {},
   "outputs": [
    {
     "name": "stdout",
     "output_type": "stream",
     "text": [
      "(287113, 740)\n"
     ]
    }
   ],
   "source": [
    "print(X_train.shape)"
   ]
  },
  {
   "cell_type": "code",
   "execution_count": null,
   "id": "e969c856-d0e9-4a60-927f-8b0c5208d64d",
   "metadata": {},
   "outputs": [],
   "source": [
    "# train the model on training data\n",
    "rnn = RNN(time_steps=X_train.shape[1], hidden_size=32, learning_rate=0.01)\n",
    "rnn.train(X_train, y_train, epochs=10)"
   ]
  }
 ],
 "metadata": {
  "kernelspec": {
   "display_name": "Python 3 (ipykernel)",
   "language": "python",
   "name": "python3"
  },
  "language_info": {
   "codemirror_mode": {
    "name": "ipython",
    "version": 3
   },
   "file_extension": ".py",
   "mimetype": "text/x-python",
   "name": "python",
   "nbconvert_exporter": "python",
   "pygments_lexer": "ipython3",
   "version": "3.11.11"
  }
 },
 "nbformat": 4,
 "nbformat_minor": 5
}
